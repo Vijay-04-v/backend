{
 "cells": [
  {
   "cell_type": "markdown",
   "id": "dac4b624",
   "metadata": {
    "papermill": {
     "duration": 0.005083,
     "end_time": "2025-02-27T16:16:31.306572",
     "exception": false,
     "start_time": "2025-02-27T16:16:31.301489",
     "status": "completed"
    },
    "tags": []
   },
   "source": [
    "## Load the dataset"
   ]
  },
  {
   "cell_type": "code",
   "execution_count": 18,
   "id": "3d883462",
   "metadata": {
    "papermill": {
     "duration": 0.031286,
     "end_time": "2025-02-27T16:16:31.343178",
     "exception": false,
     "start_time": "2025-02-27T16:16:31.311892",
     "status": "completed"
    },
    "tags": []
   },
   "outputs": [],
   "source": [
    "# df = pd.read_csv('./data/Crop_recommendation.csv')\n",
    "import pandas as pd\n",
    "df = pd.read_csv('C:\\\\Users\\\\Admin\\\\Desktop\\\\Crop Recommendation\\\\Backend\\\\Crop_recommendation.csv')"
   ]
  },
  {
   "cell_type": "code",
   "execution_count": 19,
   "id": "df6d4dd9",
   "metadata": {
    "papermill": {
     "duration": 0.045075,
     "end_time": "2025-02-27T16:16:31.409624",
     "exception": false,
     "start_time": "2025-02-27T16:16:31.364549",
     "status": "completed"
    },
    "tags": []
   },
   "outputs": [
    {
     "data": {
      "text/html": [
       "<div>\n",
       "<style scoped>\n",
       "    .dataframe tbody tr th:only-of-type {\n",
       "        vertical-align: middle;\n",
       "    }\n",
       "\n",
       "    .dataframe tbody tr th {\n",
       "        vertical-align: top;\n",
       "    }\n",
       "\n",
       "    .dataframe thead th {\n",
       "        text-align: right;\n",
       "    }\n",
       "</style>\n",
       "<table border=\"1\" class=\"dataframe\">\n",
       "  <thead>\n",
       "    <tr style=\"text-align: right;\">\n",
       "      <th></th>\n",
       "      <th>N</th>\n",
       "      <th>P</th>\n",
       "      <th>K</th>\n",
       "      <th>temperature</th>\n",
       "      <th>humidity</th>\n",
       "      <th>ph</th>\n",
       "      <th>rainfall</th>\n",
       "      <th>label</th>\n",
       "    </tr>\n",
       "  </thead>\n",
       "  <tbody>\n",
       "    <tr>\n",
       "      <th>2195</th>\n",
       "      <td>107</td>\n",
       "      <td>34</td>\n",
       "      <td>32</td>\n",
       "      <td>26.774637</td>\n",
       "      <td>66.413269</td>\n",
       "      <td>6.780064</td>\n",
       "      <td>177.774507</td>\n",
       "      <td>coffee</td>\n",
       "    </tr>\n",
       "    <tr>\n",
       "      <th>2196</th>\n",
       "      <td>99</td>\n",
       "      <td>15</td>\n",
       "      <td>27</td>\n",
       "      <td>27.417112</td>\n",
       "      <td>56.636362</td>\n",
       "      <td>6.086922</td>\n",
       "      <td>127.924610</td>\n",
       "      <td>coffee</td>\n",
       "    </tr>\n",
       "    <tr>\n",
       "      <th>2197</th>\n",
       "      <td>118</td>\n",
       "      <td>33</td>\n",
       "      <td>30</td>\n",
       "      <td>24.131797</td>\n",
       "      <td>67.225123</td>\n",
       "      <td>6.362608</td>\n",
       "      <td>173.322839</td>\n",
       "      <td>coffee</td>\n",
       "    </tr>\n",
       "    <tr>\n",
       "      <th>2198</th>\n",
       "      <td>117</td>\n",
       "      <td>32</td>\n",
       "      <td>34</td>\n",
       "      <td>26.272418</td>\n",
       "      <td>52.127394</td>\n",
       "      <td>6.758793</td>\n",
       "      <td>127.175293</td>\n",
       "      <td>coffee</td>\n",
       "    </tr>\n",
       "    <tr>\n",
       "      <th>2199</th>\n",
       "      <td>104</td>\n",
       "      <td>18</td>\n",
       "      <td>30</td>\n",
       "      <td>23.603016</td>\n",
       "      <td>60.396475</td>\n",
       "      <td>6.779833</td>\n",
       "      <td>140.937041</td>\n",
       "      <td>coffee</td>\n",
       "    </tr>\n",
       "  </tbody>\n",
       "</table>\n",
       "</div>"
      ],
      "text/plain": [
       "        N   P   K  temperature   humidity        ph    rainfall   label\n",
       "2195  107  34  32    26.774637  66.413269  6.780064  177.774507  coffee\n",
       "2196   99  15  27    27.417112  56.636362  6.086922  127.924610  coffee\n",
       "2197  118  33  30    24.131797  67.225123  6.362608  173.322839  coffee\n",
       "2198  117  32  34    26.272418  52.127394  6.758793  127.175293  coffee\n",
       "2199  104  18  30    23.603016  60.396475  6.779833  140.937041  coffee"
      ]
     },
     "execution_count": 19,
     "metadata": {},
     "output_type": "execute_result"
    }
   ],
   "source": [
    "df.tail()"
   ]
  },
  {
   "cell_type": "markdown",
   "id": "95237e48-f455-4c1c-91d3-c7548fbca6e9",
   "metadata": {},
   "source": [
    "## Check wheather there is Objects or not"
   ]
  },
  {
   "cell_type": "code",
   "execution_count": 20,
   "id": "7a4d41df",
   "metadata": {
    "papermill": {
     "duration": 0.040971,
     "end_time": "2025-02-27T16:16:31.509880",
     "exception": false,
     "start_time": "2025-02-27T16:16:31.468909",
     "status": "completed"
    },
    "tags": []
   },
   "outputs": [
    {
     "name": "stdout",
     "output_type": "stream",
     "text": [
      "<class 'pandas.core.frame.DataFrame'>\n",
      "RangeIndex: 2200 entries, 0 to 2199\n",
      "Data columns (total 8 columns):\n",
      " #   Column       Non-Null Count  Dtype  \n",
      "---  ------       --------------  -----  \n",
      " 0   N            2200 non-null   int64  \n",
      " 1   P            2200 non-null   int64  \n",
      " 2   K            2200 non-null   int64  \n",
      " 3   temperature  2200 non-null   float64\n",
      " 4   humidity     2200 non-null   float64\n",
      " 5   ph           2200 non-null   float64\n",
      " 6   rainfall     2200 non-null   float64\n",
      " 7   label        2200 non-null   object \n",
      "dtypes: float64(4), int64(3), object(1)\n",
      "memory usage: 137.6+ KB\n"
     ]
    }
   ],
   "source": [
    "df.info()"
   ]
  },
  {
   "cell_type": "markdown",
   "id": "03962b9f",
   "metadata": {
    "papermill": {
     "duration": 0.006058,
     "end_time": "2025-02-27T16:16:31.615958",
     "exception": false,
     "start_time": "2025-02-27T16:16:31.609900",
     "status": "completed"
    },
    "tags": []
   },
   "source": [
    "## Check the missings values of dataset"
   ]
  },
  {
   "cell_type": "code",
   "execution_count": 21,
   "id": "e9a2929a",
   "metadata": {
    "papermill": {
     "duration": 0.018943,
     "end_time": "2025-02-27T16:16:31.641290",
     "exception": false,
     "start_time": "2025-02-27T16:16:31.622347",
     "status": "completed"
    },
    "tags": []
   },
   "outputs": [
    {
     "data": {
      "text/plain": [
       "N              0\n",
       "P              0\n",
       "K              0\n",
       "temperature    0\n",
       "humidity       0\n",
       "ph             0\n",
       "rainfall       0\n",
       "label          0\n",
       "dtype: int64"
      ]
     },
     "execution_count": 21,
     "metadata": {},
     "output_type": "execute_result"
    }
   ],
   "source": [
    "df.isnull().sum()"
   ]
  },
  {
   "cell_type": "markdown",
   "id": "c9130dbd-0135-4bf5-a6f7-a8a5702e5540",
   "metadata": {},
   "source": [
    "## Check the duplicates values of dataset"
   ]
  },
  {
   "cell_type": "code",
   "execution_count": 22,
   "id": "f8c441d5",
   "metadata": {
    "papermill": {
     "duration": 0.019417,
     "end_time": "2025-02-27T16:16:31.667494",
     "exception": false,
     "start_time": "2025-02-27T16:16:31.648077",
     "status": "completed"
    },
    "tags": []
   },
   "outputs": [
    {
     "data": {
      "text/plain": [
       "np.int64(0)"
      ]
     },
     "execution_count": 22,
     "metadata": {},
     "output_type": "execute_result"
    }
   ],
   "source": [
    "df.duplicated().sum()"
   ]
  },
  {
   "cell_type": "markdown",
   "id": "31b6f9ad",
   "metadata": {
    "papermill": {
     "duration": 0.00646,
     "end_time": "2025-02-27T16:16:31.685285",
     "exception": false,
     "start_time": "2025-02-27T16:16:31.678825",
     "status": "completed"
    },
    "tags": []
   },
   "source": [
    "## Check Each label name how many times "
   ]
  },
  {
   "cell_type": "code",
   "execution_count": 23,
   "id": "6cc263b2",
   "metadata": {
    "papermill": {
     "duration": 0.025668,
     "end_time": "2025-02-27T16:16:31.717593",
     "exception": false,
     "start_time": "2025-02-27T16:16:31.691925",
     "status": "completed"
    },
    "tags": []
   },
   "outputs": [
    {
     "data": {
      "text/plain": [
       "label\n",
       "rice           100\n",
       "maize          100\n",
       "chickpea       100\n",
       "kidneybeans    100\n",
       "pigeonpeas     100\n",
       "mothbeans      100\n",
       "mungbean       100\n",
       "blackgram      100\n",
       "lentil         100\n",
       "pomegranate    100\n",
       "banana         100\n",
       "mango          100\n",
       "grapes         100\n",
       "watermelon     100\n",
       "muskmelon      100\n",
       "apple          100\n",
       "orange         100\n",
       "papaya         100\n",
       "coconut        100\n",
       "cotton         100\n",
       "jute           100\n",
       "coffee         100\n",
       "Name: count, dtype: int64"
      ]
     },
     "execution_count": 23,
     "metadata": {},
     "output_type": "execute_result"
    }
   ],
   "source": [
    "df['label'].value_counts()"
   ]
  },
  {
   "cell_type": "markdown",
   "id": "99f13c9d-5215-47d4-a4ef-a8211a6efa38",
   "metadata": {},
   "source": [
    "## Categorical data"
   ]
  },
  {
   "cell_type": "code",
   "execution_count": 24,
   "id": "a7711130",
   "metadata": {
    "papermill": {
     "duration": 0.072487,
     "end_time": "2025-02-27T16:17:14.595846",
     "exception": false,
     "start_time": "2025-02-27T16:17:14.523359",
     "status": "completed"
    },
    "tags": []
   },
   "outputs": [],
   "source": [
    "from sklearn.preprocessing import LabelEncoder\n",
    "\n",
    "label_encoder = LabelEncoder()\n",
    "df['label'] = label_encoder.fit_transform(df['label'])"
   ]
  },
  {
   "cell_type": "markdown",
   "id": "161dd09a-59a0-4fb6-87da-6b0c8ad9b30c",
   "metadata": {},
   "source": [
    "### To find Whch name name have which index value (i.e.., rice = 20,....)"
   ]
  },
  {
   "cell_type": "code",
   "execution_count": 25,
   "id": "249246d1-b524-4c43-a0ed-e8717ecddee7",
   "metadata": {},
   "outputs": [
    {
     "data": {
      "text/plain": [
       "label\n",
       "20    100\n",
       "11    100\n",
       "3     100\n",
       "9     100\n",
       "18    100\n",
       "13    100\n",
       "14    100\n",
       "2     100\n",
       "10    100\n",
       "19    100\n",
       "1     100\n",
       "12    100\n",
       "7     100\n",
       "21    100\n",
       "15    100\n",
       "0     100\n",
       "16    100\n",
       "17    100\n",
       "4     100\n",
       "6     100\n",
       "8     100\n",
       "5     100\n",
       "Name: count, dtype: int64"
      ]
     },
     "execution_count": 25,
     "metadata": {},
     "output_type": "execute_result"
    }
   ],
   "source": [
    "df['label'].value_counts()"
   ]
  },
  {
   "cell_type": "markdown",
   "id": "aece9b7f-5686-4efe-b1c2-e0f5a43d935b",
   "metadata": {},
   "source": [
    "## Train the Data"
   ]
  },
  {
   "cell_type": "code",
   "execution_count": 26,
   "id": "e54aa6e5",
   "metadata": {
    "papermill": {
     "duration": 0.080422,
     "end_time": "2025-02-27T16:17:14.740557",
     "exception": false,
     "start_time": "2025-02-27T16:17:14.660135",
     "status": "completed"
    },
    "tags": []
   },
   "outputs": [],
   "source": [
    "from sklearn.model_selection import train_test_split\n",
    "\n",
    "\n",
    "X = df.drop(columns='label', axis=1)\n",
    "y = df['label']\n",
    "X_train, X_test, y_train, y_test = train_test_split(X,y, test_size=0.2, random_state=42)\n"
   ]
  },
  {
   "cell_type": "markdown",
   "id": "40547ca5-618a-4101-850f-576ab218519d",
   "metadata": {},
   "source": [
    "## Scalling data "
   ]
  },
  {
   "cell_type": "code",
   "execution_count": 27,
   "id": "068d51a2-71cb-43c1-86d3-663542d45baf",
   "metadata": {},
   "outputs": [],
   "source": [
    "from sklearn.preprocessing import StandardScaler\n",
    "sc = StandardScaler()\n",
    "\n",
    "X_train = sc.fit_transform(X_train)\n",
    "X_test = sc.transform(X_test)"
   ]
  },
  {
   "cell_type": "markdown",
   "id": "f4d15b88-a1f3-409e-a394-35eab207a6c2",
   "metadata": {},
   "source": [
    "# Check the Which type is fit for this model"
   ]
  },
  {
   "cell_type": "code",
   "execution_count": 28,
   "id": "e0693dfc-79dc-4f78-8b5b-d34a3c5a2fb5",
   "metadata": {},
   "outputs": [],
   "source": [
    "from sklearn.linear_model import LogisticRegression\n",
    "from sklearn.tree import DecisionTreeClassifier\n",
    "from sklearn.ensemble import RandomForestClassifier,ExtraTreesClassifier,GradientBoostingClassifier,AdaBoostClassifier\n",
    "from sklearn.svm import SVC\n",
    "from sklearn.neighbors import KNeighborsClassifier\n",
    "\n",
    "\n",
    "from sklearn.metrics import accuracy_score"
   ]
  },
  {
   "cell_type": "code",
   "execution_count": 29,
   "id": "deda84c1",
   "metadata": {
    "papermill": {
     "duration": 35.368063,
     "end_time": "2025-02-27T16:17:50.169215",
     "exception": false,
     "start_time": "2025-02-27T16:17:14.801152",
     "status": "completed"
    },
    "tags": []
   },
   "outputs": [
    {
     "name": "stdout",
     "output_type": "stream",
     "text": [
      "Model: LogisticRegression accuracy is: 0.9636363636363636\n",
      "\n",
      "Model: DecisionTreeClassifier accuracy is: 0.9886363636363636\n",
      "\n",
      "Model: RandomForestClassifier accuracy is: 0.9931818181818182\n",
      "\n",
      "Model: ExtraTreesClassifier accuracy is: 0.9886363636363636\n",
      "\n",
      "Model: GradientBoostingClassifier accuracy is: 0.9818181818181818\n",
      "\n",
      "Model: AdaBoostClassifier accuracy is: 0.14545454545454545\n",
      "\n",
      "Model: SupportVectorMachine accuracy is: 0.9681818181818181\n",
      "\n",
      "Model: KNeighborsClassifier accuracy is: 0.9568181818181818\n",
      "\n",
      "Best Model is : RandomForestClassifier()\n"
     ]
    }
   ],
   "source": [
    "models = {\n",
    "    'LogisticRegression':LogisticRegression(),\n",
    "    'DecisionTreeClassifier': DecisionTreeClassifier(),\n",
    "    'RandomForestClassifier':RandomForestClassifier(),\n",
    "    'ExtraTreesClassifier':ExtraTreesClassifier(),\n",
    "    'GradientBoostingClassifier':GradientBoostingClassifier(),\n",
    "    'AdaBoostClassifier':AdaBoostClassifier(),\n",
    "    'SupportVectorMachine': SVC(),\n",
    "    'KNeighborsClassifier': KNeighborsClassifier(),\n",
    "\n",
    "    \n",
    "}\n",
    "best_model = None\n",
    "best_accuracy = 0.0\n",
    "for name, model in models.items():\n",
    "    model.fit(X_train,y_train)\n",
    "    y_pred = model.predict(X_test)\n",
    "    accuracy = accuracy_score(y_test,y_pred)\n",
    "\n",
    "    print(f'Model: {name} accuracy is: {accuracy}')\n",
    "    print()\n",
    "\n",
    "    if best_accuracy < accuracy:\n",
    "        best_accuracy = accuracy\n",
    "        best_model = model\n",
    "\n",
    "\n",
    "print(f\"Best Model is : {best_model}\")"
   ]
  },
  {
   "cell_type": "markdown",
   "id": "14eddaba-aac1-4a51-ad90-0c0a61f19fe6",
   "metadata": {},
   "source": [
    "## Random Forest Classifier"
   ]
  },
  {
   "cell_type": "code",
   "execution_count": 30,
   "id": "e4161e13",
   "metadata": {
    "papermill": {
     "duration": 0.516746,
     "end_time": "2025-02-27T16:17:50.755531",
     "exception": false,
     "start_time": "2025-02-27T16:17:50.238785",
     "status": "completed"
    },
    "tags": []
   },
   "outputs": [
    {
     "name": "stdout",
     "output_type": "stream",
     "text": [
      "0.9931818181818182\n"
     ]
    }
   ],
   "source": [
    "rfc = RandomForestClassifier()\n",
    "rfc.fit(X_train,y_train)\n",
    "y_pred = rfc.predict(X_test)\n",
    "print(accuracy_score(y_test,y_pred))"
   ]
  },
  {
   "cell_type": "code",
   "execution_count": 31,
   "id": "f3a6c369-7d86-4cb3-8259-325c6f3bb944",
   "metadata": {},
   "outputs": [
    {
     "data": {
      "text/plain": [
       "array([[ 1.34934948, -1.0960582 , -0.02225388, ...,  1.05232434,\n",
       "        -0.37619899, -1.38984486],\n",
       "       [ 1.26889319, -1.36698971,  0.05607978, ...,  0.67956909,\n",
       "        -0.28013033, -0.96895253],\n",
       "       [ 0.22296144,  0.25859933,  0.01691295, ...,  0.98974316,\n",
       "         0.60209743,  0.22056087],\n",
       "       ...,\n",
       "       [ 1.88572474, -0.19295318, -0.62933977, ...,  0.35134079,\n",
       "         1.61311363, -0.54905776],\n",
       "       [ 1.75163092, -0.04243567, -0.57058952, ...,  0.1731198 ,\n",
       "        -0.46741089, -0.64767698],\n",
       "       [-1.22525175,  0.43922034, -0.55100611, ..., -1.74645651,\n",
       "        -0.45817577,  0.95946086]], shape=(440, 7))"
      ]
     },
     "execution_count": 31,
     "metadata": {},
     "output_type": "execute_result"
    }
   ],
   "source": [
    "X_test"
   ]
  },
  {
   "cell_type": "markdown",
   "id": "1a4f887c-aa6b-4c55-96c2-7b88bf96651c",
   "metadata": {},
   "source": [
    "#### If we directly enter the Input values which present in data set means it show array[0].., because we use \"Standard Scaler\""
   ]
  },
  {
   "cell_type": "code",
   "execution_count": 32,
   "id": "1f17c721-6ca0-4511-ad16-f8ef7083af46",
   "metadata": {},
   "outputs": [
    {
     "data": {
      "text/plain": [
       "array([0])"
      ]
     },
     "execution_count": 32,
     "metadata": {},
     "output_type": "execute_result"
    }
   ],
   "source": [
    "rfc.predict([[104,\t18\t,30,\t23.603016,\t60.396475\t,6.779833\t,140.937041]])"
   ]
  },
  {
   "cell_type": "markdown",
   "id": "48c080ee-92e7-49fa-9255-f1a04e64b45c",
   "metadata": {},
   "source": [
    "#### It is very diffict to enter the scaled inputs every time"
   ]
  },
  {
   "cell_type": "code",
   "execution_count": 33,
   "id": "b8b7ee2a-e60f-4030-98b8-be5052419b68",
   "metadata": {},
   "outputs": [
    {
     "data": {
      "text/plain": [
       "array([15])"
      ]
     },
     "execution_count": 33,
     "metadata": {},
     "output_type": "execute_result"
    }
   ],
   "source": [
    "rfc.predict([[1.34934948, -1.0960582 , -0.02225388, 1.65234,  1.05232434,\n",
    "        -0.37619899, -1.38984486]])"
   ]
  },
  {
   "cell_type": "markdown",
   "id": "29498370-7e57-486c-a901-8f3816c9e013",
   "metadata": {},
   "source": [
    "## To convert scaled inputs to Normal inputs"
   ]
  },
  {
   "cell_type": "code",
   "execution_count": 34,
   "id": "8bf07ff3-fd6b-4680-97e4-f1793f5e5278",
   "metadata": {},
   "outputs": [
    {
     "name": "stdout",
     "output_type": "stream",
     "text": [
      "Predicted Output: [5]\n"
     ]
    },
    {
     "name": "stderr",
     "output_type": "stream",
     "text": [
      "C:\\Users\\Admin\\AppData\\Local\\Packages\\PythonSoftwareFoundation.Python.3.13_qbz5n2kfra8p0\\LocalCache\\local-packages\\Python313\\site-packages\\sklearn\\utils\\validation.py:2739: UserWarning: X does not have valid feature names, but StandardScaler was fitted with feature names\n",
      "  warnings.warn(\n"
     ]
    }
   ],
   "source": [
    "import numpy as np\n",
    "\n",
    "def predict_from_raw(raw_input):\n",
    "    # Convert to NumPy array and reshape if needed\n",
    "    raw_input = np.array(raw_input).reshape(1, -1)  \n",
    "    \n",
    "    # Scale the input using the fitted scaler\n",
    "    scaled_input = sc.transform(raw_input)\n",
    "    \n",
    "    # Predict using the trained model\n",
    "    prediction = rfc.predict(scaled_input)\n",
    "    \n",
    "    return prediction\n",
    "\n",
    "\n",
    "# Get prediction\n",
    "output = predict_from_raw([104\t,18\t,30\t,23.603016\t,60.396475\t,6.779833\t,140.937041])\n",
    "print(\"Predicted Output:\", output)\n"
   ]
  },
  {
   "cell_type": "markdown",
   "id": "6d896258-49d0-413a-b8fe-c3bdde6b360d",
   "metadata": {},
   "source": [
    "## To convert Index value a Normal Output"
   ]
  },
  {
   "cell_type": "code",
   "execution_count": 35,
   "id": "75b06219-5a33-40b8-8317-4a18e2ab1e3a",
   "metadata": {},
   "outputs": [
    {
     "name": "stdout",
     "output_type": "stream",
     "text": [
      "Original Text Label: ['coffee']\n"
     ]
    },
    {
     "name": "stderr",
     "output_type": "stream",
     "text": [
      "C:\\Users\\Admin\\AppData\\Local\\Packages\\PythonSoftwareFoundation.Python.3.13_qbz5n2kfra8p0\\LocalCache\\local-packages\\Python313\\site-packages\\sklearn\\preprocessing\\_label.py:151: DataConversionWarning: A column-vector y was passed when a 1d array was expected. Please change the shape of y to (n_samples, ), for example using ravel().\n",
      "  y = column_or_1d(y, warn=True)\n"
     ]
    }
   ],
   "source": [
    "original_text_label = label_encoder.inverse_transform([output])\n",
    "print(\"Original Text Label:\", original_text_label)\n"
   ]
  },
  {
   "cell_type": "markdown",
   "id": "08a2cd0d-b428-45db-a094-1ce2c7f27e68",
   "metadata": {},
   "source": [
    "# Pickle"
   ]
  },
  {
   "cell_type": "code",
   "execution_count": 36,
   "id": "00332ad2",
   "metadata": {
    "papermill": {
     "duration": 0.076172,
     "end_time": "2025-02-27T16:17:50.906633",
     "exception": false,
     "start_time": "2025-02-27T16:17:50.830461",
     "status": "completed"
    },
    "tags": []
   },
   "outputs": [],
   "source": [
    "import pickle\n",
    "\n",
    "# Save the model\n",
    "with open(\"model.pkl\", \"wb\") as model_file:\n",
    "    pickle.dump(rfc, model_file)\n",
    "\n",
    "# Save the scaler\n",
    "with open(\"scaler.pkl\", \"wb\") as scaler_file:\n",
    "    pickle.dump(sc, scaler_file)\n",
    "\n",
    "# Save the label encoder\n",
    "with open(\"label_encoder.pkl\", \"wb\") as le_file:\n",
    "    pickle.dump(label_encoder, le_file)\n"
   ]
  },
  {
   "cell_type": "code",
   "execution_count": null,
   "id": "897d3552-10ca-4163-be22-ef4817c11794",
   "metadata": {},
   "outputs": [],
   "source": []
  }
 ],
 "metadata": {
  "kaggle": {
   "accelerator": "none",
   "dataSources": [
    {
     "datasetId": 1046158,
     "sourceId": 1760012,
     "sourceType": "datasetVersion"
    }
   ],
   "dockerImageVersionId": 30918,
   "isGpuEnabled": false,
   "isInternetEnabled": true,
   "language": "python",
   "sourceType": "notebook"
  },
  "kernelspec": {
   "display_name": "Python 3",
   "language": "python",
   "name": "python3"
  },
  "language_info": {
   "codemirror_mode": {
    "name": "ipython",
    "version": 3
   },
   "file_extension": ".py",
   "mimetype": "text/x-python",
   "name": "python",
   "nbconvert_exporter": "python",
   "pygments_lexer": "ipython3",
   "version": "3.13.2"
  },
  "papermill": {
   "default_parameters": {},
   "duration": 91.991422,
   "end_time": "2025-02-27T16:17:52.300689",
   "environment_variables": {},
   "exception": null,
   "input_path": "__notebook__.ipynb",
   "output_path": "__notebook__.ipynb",
   "parameters": {},
   "start_time": "2025-02-27T16:16:20.309267",
   "version": "2.6.0"
  }
 },
 "nbformat": 4,
 "nbformat_minor": 5
}
